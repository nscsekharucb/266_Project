{
 "cells": [
  {
   "cell_type": "code",
   "execution_count": 41,
   "metadata": {},
   "outputs": [],
   "source": [
    "import nltk\n",
    "nltk.data.path.append('/Users/nscsekhar/Desktop/nscsekhar/Desktop/Surya/Personal/MIDS/W266/nltk/nltk')\n",
    "from comment_parser import comment_parser\n",
    "from nltk import tokenize\n",
    "import pandas as pd\n",
    "import numpy as np"
   ]
  },
  {
   "cell_type": "code",
   "execution_count": 36,
   "metadata": {},
   "outputs": [],
   "source": [
    "#\n",
    "# Routine to extract comments from a given file\n",
    "#\n",
    "def get_comment_sents(filename):\n",
    "    comment_sents = []\n",
    "\n",
    "    comment_blocks = comment_parser.extract_comments(filename)\n",
    "    \n",
    "    #\n",
    "    # Skip copyright section\n",
    "    #\n",
    "    for comment_block in comment_blocks[1:]:\n",
    "        #\n",
    "        # Remove any special characters\n",
    "        #\n",
    "        comment_text = comment_block._text\n",
    "        comment_text = comment_text.replace('*', '')\n",
    "        comment_text = comment_text.replace('\\n', '')\n",
    "        comment_text = comment_text.replace('\\t', '')\n",
    "        \n",
    "        for sent in tokenize.sent_tokenize(comment_text):\n",
    "            comment_sents.append(sent)\n",
    "\n",
    "    return comment_sents"
   ]
  },
  {
   "cell_type": "code",
   "execution_count": 38,
   "metadata": {},
   "outputs": [],
   "source": [
    "df = pd.DataFrame()\n",
    "#\n",
    "# Get the list of files to run through\n",
    "#\n",
    "with open('./postgres_src.list') as f:\n",
    "    lines = f.readlines()\n",
    "    for srcFile in lines:\n",
    "#         print(srcFile.rstrip())\n",
    "        comment_sents = get_comment_sents(srcFile.rstrip())\n",
    "        testdf = pd.DataFrame(comment_sents)\n",
    "#         print(testdf)\n",
    "        df = pd.concat([df,testdf])\n",
    "#         break"
   ]
  },
  {
   "cell_type": "code",
   "execution_count": 39,
   "metadata": {},
   "outputs": [
    {
     "name": "stdout",
     "output_type": "stream",
     "text": [
      "(52412, 1)\n"
     ]
    }
   ],
   "source": [
    "print(df.shape)"
   ]
  },
  {
   "cell_type": "code",
   "execution_count": 49,
   "metadata": {},
   "outputs": [],
   "source": [
    "df['polarity'] = np.random.choice([0,1], df.shape[0])\n",
    "df.columns = ['sentence', 'polarity']"
   ]
  },
  {
   "cell_type": "code",
   "execution_count": 50,
   "metadata": {},
   "outputs": [
    {
     "name": "stdout",
     "output_type": "stream",
     "text": [
      "(52412, 2)\n"
     ]
    }
   ],
   "source": [
    "print(df.shape)"
   ]
  },
  {
   "cell_type": "code",
   "execution_count": 51,
   "metadata": {},
   "outputs": [
    {
     "data": {
      "text/html": [
       "<div>\n",
       "<style>\n",
       "    .dataframe thead tr:only-child th {\n",
       "        text-align: right;\n",
       "    }\n",
       "\n",
       "    .dataframe thead th {\n",
       "        text-align: left;\n",
       "    }\n",
       "\n",
       "    .dataframe tbody tr th {\n",
       "        vertical-align: top;\n",
       "    }\n",
       "</style>\n",
       "<table border=\"1\" class=\"dataframe\">\n",
       "  <thead>\n",
       "    <tr style=\"text-align: right;\">\n",
       "      <th></th>\n",
       "      <th>sentence</th>\n",
       "      <th>polarity</th>\n",
       "    </tr>\n",
       "  </thead>\n",
       "  <tbody>\n",
       "    <tr>\n",
       "      <th>0</th>\n",
       "      <td>We use a BrinBuildState during initial const...</td>\n",
       "      <td>1</td>\n",
       "    </tr>\n",
       "    <tr>\n",
       "      <th>1</th>\n",
       "      <td>The running state is kept in a BrinMemTuple.</td>\n",
       "      <td>0</td>\n",
       "    </tr>\n",
       "    <tr>\n",
       "      <th>2</th>\n",
       "      <td>Struct used as \"opaque\" during index scans</td>\n",
       "      <td>0</td>\n",
       "    </tr>\n",
       "    <tr>\n",
       "      <th>3</th>\n",
       "      <td>BRIN handler function: return IndexAmRoutine...</td>\n",
       "      <td>1</td>\n",
       "    </tr>\n",
       "    <tr>\n",
       "      <th>4</th>\n",
       "      <td>A tuple in the heap is being inserted.</td>\n",
       "      <td>0</td>\n",
       "    </tr>\n",
       "    <tr>\n",
       "      <th>5</th>\n",
       "      <td>To keep a brin index up to date,  we need to o...</td>\n",
       "      <td>1</td>\n",
       "    </tr>\n",
       "    <tr>\n",
       "      <th>6</th>\n",
       "      <td>If the tuple values are not consistent with  t...</td>\n",
       "      <td>0</td>\n",
       "    </tr>\n",
       "    <tr>\n",
       "      <th>7</th>\n",
       "      <td>If autosummarization is enabled, check if we n...</td>\n",
       "      <td>0</td>\n",
       "    </tr>\n",
       "    <tr>\n",
       "      <th>8</th>\n",
       "      <td>If the range is not currently summarized (i.e.</td>\n",
       "      <td>1</td>\n",
       "    </tr>\n",
       "    <tr>\n",
       "      <th>9</th>\n",
       "      <td>the revmap returns NULL for  it), there's noth...</td>\n",
       "      <td>1</td>\n",
       "    </tr>\n",
       "  </tbody>\n",
       "</table>\n",
       "</div>"
      ],
      "text/plain": [
       "                                            sentence  polarity\n",
       "0    We use a BrinBuildState during initial const...         1\n",
       "1       The running state is kept in a BrinMemTuple.         0\n",
       "2         Struct used as \"opaque\" during index scans         0\n",
       "3    BRIN handler function: return IndexAmRoutine...         1\n",
       "4             A tuple in the heap is being inserted.         0\n",
       "5  To keep a brin index up to date,  we need to o...         1\n",
       "6  If the tuple values are not consistent with  t...         0\n",
       "7  If autosummarization is enabled, check if we n...         0\n",
       "8     If the range is not currently summarized (i.e.         1\n",
       "9  the revmap returns NULL for  it), there's noth...         1"
      ]
     },
     "execution_count": 51,
     "metadata": {},
     "output_type": "execute_result"
    }
   ],
   "source": [
    "df.head(10)"
   ]
  },
  {
   "cell_type": "code",
   "execution_count": 53,
   "metadata": {},
   "outputs": [],
   "source": [
    "df.to_csv('./dummy_corpus.csv', index=False)"
   ]
  },
  {
   "cell_type": "code",
   "execution_count": null,
   "metadata": {},
   "outputs": [],
   "source": []
  }
 ],
 "metadata": {
  "kernelspec": {
   "display_name": "Python 3",
   "language": "python",
   "name": "python3"
  },
  "language_info": {
   "codemirror_mode": {
    "name": "ipython",
    "version": 3
   },
   "file_extension": ".py",
   "mimetype": "text/x-python",
   "name": "python",
   "nbconvert_exporter": "python",
   "pygments_lexer": "ipython3",
   "version": "3.6.3"
  }
 },
 "nbformat": 4,
 "nbformat_minor": 2
}
