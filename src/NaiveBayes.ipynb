{
 "cells": [
  {
   "cell_type": "code",
   "execution_count": 49,
   "metadata": {},
   "outputs": [],
   "source": [
    "#\n",
    "# Imports\n",
    "\n",
    "import pandas as pd\n",
    "import numpy as np\n",
    "from sklearn.naive_bayes import GaussianNB\n",
    "from sklearn.naive_bayes import BernoulliNB\n",
    "from sklearn.naive_bayes import MultinomialNB\n",
    "from sklearn.grid_search import GridSearchCV\n",
    "from sklearn.linear_model import LogisticRegression\n",
    "from sklearn import metrics\n",
    "\n",
    "from sklearn.feature_extraction.text import *\n",
    "import common\n",
    "from importlib import reload\n",
    "%matplotlib inline\n"
   ]
  },
  {
   "cell_type": "code",
   "execution_count": 47,
   "metadata": {},
   "outputs": [
    {
     "name": "stdout",
     "output_type": "stream",
     "text": [
      "9849\n",
      "(5909,)\n"
     ]
    }
   ],
   "source": [
    "#\n",
    "# Load the dataset\n",
    "#\n",
    "reload(common)\n",
    "\n",
    "(train_sentences, train_categories, test_sentences, test_categories) = common.load_dataset('../dataset/redis_dataset.csv', split=0.6)\n",
    "print(train_sentences.shape)\n",
    "\n",
    "#\n",
    "# Vectorizers\n",
    "#\n",
    "cv = CountVectorizer()\n",
    "train_cv = cv.fit_transform(train_sentences)\n",
    "test_cv = cv.transform(test_sentences)\n",
    "\n",
    "tf = TfidfVectorizer()\n",
    "train_tf = tf.fit_transform(train_sentences)\n",
    "test_tf = tf.transform(test_sentences)\n"
   ]
  },
  {
   "cell_type": "code",
   "execution_count": 59,
   "metadata": {},
   "outputs": [
    {
     "name": "stdout",
     "output_type": "stream",
     "text": [
      "Best BernoulliNB score with CV: 0.7134878998138433 with alpha=  {'alpha': 2.0}\n",
      "Best BernoulliNB score with TF: 0.7134878998138433 with alpha=  {'alpha': 2.0}\n",
      "\n",
      "Accuracy: 0.7368020304568528\n",
      "             precision    recall  f1-score   support\n",
      "\n",
      "          0       0.88      0.77      0.82      3070\n",
      "          1       0.43      0.62      0.51       870\n",
      "\n",
      "avg / total       0.78      0.74      0.75      3940\n",
      "\n"
     ]
    }
   ],
   "source": [
    "#\n",
    "# NaiveBayes\n",
    "#\n",
    "\n",
    "#\n",
    "# Bernoulli NB Model\n",
    "#\n",
    "alphas = {'alpha': [0.001, 0.01, 0.1, 0.5, 1.0, 2.0, 10.0]}\n",
    "grid = GridSearchCV(BernoulliNB(),alphas)\n",
    "grid.fit(train_cv, train_categories)\n",
    "print('Best BernoulliNB score with CV:', grid.best_score_, 'with alpha= ', grid.best_params_)\n",
    "\n",
    "grid.fit(train_tf, train_categories)\n",
    "print('Best BernoulliNB score with TF:', grid.best_score_, 'with alpha= ', grid.best_params_)\n",
    "\n",
    "b_clf = BernoulliNB(alpha=grid.best_params_['alpha'])\n",
    "b_clf.fit(train_tf, train_categories)\n",
    "pred = b_clf.predict(test_tf)\n",
    "print('\\nAccuracy:', np.mean(pred == test_categories))\n",
    "report = metrics.classification_report(pred, test_categories)\n",
    "print(report)"
   ]
  },
  {
   "cell_type": "code",
   "execution_count": 56,
   "metadata": {},
   "outputs": [
    {
     "name": "stdout",
     "output_type": "stream",
     "text": [
      "Best Logistic regression score: 0.7656117786427483 with C=  {'C': 1}\n",
      "             precision    recall  f1-score   support\n",
      "\n",
      "          0       0.90      0.81      0.85      3003\n",
      "          1       0.54      0.73      0.62       937\n",
      "\n",
      "avg / total       0.82      0.79      0.80      3940\n",
      "\n"
     ]
    }
   ],
   "source": [
    "#\n",
    "# Logistic Regression \n",
    "#\n",
    "Cs = {'C': [.05, 0.1, 0.15, 0.2, 0.25, 0.3, 0.35, 0.4, 0.45, 0.5, 1]}\n",
    "lg_clf = LogisticRegression(penalty='l2')\n",
    "grid_search = GridSearchCV(lg_clf, Cs)\n",
    "grid_search.fit(train_tf, train_categories)\n",
    "print('Best Logistic regression score:', grid_search.best_score_, 'with C= ', grid_search.best_params_)\n",
    "\n",
    "lg_clf = LogisticRegression(penalty='l2', C=1)\n",
    "lg_clf.fit(train_tf, train_categories)\n",
    "pred = lg_clf.predict(test_tf)\n",
    "report = metrics.classification_report(pred, test_categories)\n",
    "print(report)\n"
   ]
  },
  {
   "cell_type": "code",
   "execution_count": null,
   "metadata": {},
   "outputs": [],
   "source": []
  }
 ],
 "metadata": {
  "kernelspec": {
   "display_name": "Python 3",
   "language": "python",
   "name": "python3"
  },
  "language_info": {
   "codemirror_mode": {
    "name": "ipython",
    "version": 3
   },
   "file_extension": ".py",
   "mimetype": "text/x-python",
   "name": "python",
   "nbconvert_exporter": "python",
   "pygments_lexer": "ipython3",
   "version": "3.6.3"
  }
 },
 "nbformat": 4,
 "nbformat_minor": 2
}
